{
 "cells": [
  {
   "cell_type": "markdown",
   "metadata": {},
   "source": [
    "# Downloading of Helsinki XYZ data\n",
    "Takes the “Exact elevation model xyz triangle grid” data layer from https://kartta.hel.fi/ with Python script, a total of 52,5 million points, and converts it to a .csv.\n"
   ]
  },
  {
   "cell_type": "code",
   "execution_count": null,
   "metadata": {
    "id": "M1n0ATvgjcFp"
   },
   "outputs": [],
   "source": [
    "# Sets the tile boundries (inclusive)\n",
    "xmin = 490\n",
    "xmax = 514\n",
    "\n",
    "ymin = 668\n",
    "ymax = 686\n",
    "\n",
    "# Creates a list of filenames to download\n",
    "filenames = []\n",
    "for x in range(xmin,xmax+1):\n",
    "    for y in range(ymin,ymax+1):\n",
    "        filenames.append(f'Mm_{y}{x}.xyz')"
   ]
  },
  {
   "cell_type": "code",
   "execution_count": null,
   "metadata": {
    "colab": {
     "base_uri": "https://localhost:8080/"
    },
    "id": "QXqtvNbGk-Ol",
    "outputId": "2b137841-76ae-4d78-ebe6-e89d7861b5fc"
   },
   "outputs": [],
   "source": [
    "import requests\n",
    "import io\n",
    "\n",
    "# Downloads all the XYZ files\n",
    "base_url = 'https://kartta.hel.fi/helshares/Tarkkamalli/'\n",
    "for file in filenames:\n",
    "    url = base_url+file\n",
    "    print(url)\n",
    "    r = requests.get(url)\n",
    "    if r.status_code == 404:\n",
    "        continue\n",
    "    with open('everything.txt', 'ab') as f:\n",
    "        f.write(r.content)"
   ]
  },
  {
   "cell_type": "code",
   "execution_count": null,
   "metadata": {
    "colab": {
     "base_uri": "https://localhost:8080/"
    },
    "id": "yfvKgkJYtP28",
    "outputId": "51d8eb0c-08fa-43fa-c396-bfc2fd321cc3"
   },
   "outputs": [],
   "source": [
    "import pandas as pd\n",
    "\n",
    "# Converts the text file to a Pandas database\n",
    "df1 = pd.read_csv('everything.txt', sep=' ', header=None)\n",
    "print(df1)\n",
    "\n",
    "# Removes the first column and writes to a CSV file\n",
    "df1 = df1.drop(0, 1)\n",
    "df1.to_csv('everything.csv', index=False, header=False)"
   ]
  }
 ],
 "metadata": {
  "colab": {
   "collapsed_sections": [],
   "name": "xyz-helsinki.ipynb",
   "provenance": []
  },
  "kernelspec": {
   "display_name": "Python 3",
   "language": "python",
   "name": "python3"
  },
  "language_info": {
   "codemirror_mode": {
    "name": "ipython",
    "version": 3
   },
   "file_extension": ".py",
   "mimetype": "text/x-python",
   "name": "python",
   "nbconvert_exporter": "python",
   "pygments_lexer": "ipython3",
   "version": "3.8.8"
  }
 },
 "nbformat": 4,
 "nbformat_minor": 4
}
